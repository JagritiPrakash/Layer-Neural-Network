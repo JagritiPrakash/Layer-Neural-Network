{
  "nbformat": 4,
  "nbformat_minor": 0,
  "metadata": {
    "colab": {
      "name": "Layer Neural Network- Jagriti.ipynb",
      "provenance": [],
      "collapsed_sections": [],
      "authorship_tag": "ABX9TyPn0kauERL3uAchhMVaRudg",
      "include_colab_link": true
    },
    "kernelspec": {
      "name": "python3",
      "display_name": "Python 3"
    }
  },
  "cells": [
    {
      "cell_type": "markdown",
      "metadata": {
        "id": "view-in-github",
        "colab_type": "text"
      },
      "source": [
        "<a href=\"https://colab.research.google.com/github/JagritiPrakash/Layer-Neural-Network/blob/master/Layer_Neural_Network_Jagriti.ipynb\" target=\"_parent\"><img src=\"https://colab.research.google.com/assets/colab-badge.svg\" alt=\"Open In Colab\"/></a>"
      ]
    },
    {
      "cell_type": "markdown",
      "metadata": {
        "id": "37QfB45bHsBi",
        "colab_type": "text"
      },
      "source": [
        "#A neural network trained with backpropagation is attempting to use input to predict output."
      ]
    },
    {
      "cell_type": "markdown",
      "metadata": {
        "id": "LeNkLfGTPoJX",
        "colab_type": "text"
      },
      "source": [
        "   \n",
        "\n",
        "*  Input  Output  \n",
        "*  0 0 1    0\n",
        "*  1 1 1    1\n",
        "*  1 0 1    1 \n",
        "*  0 1 1    0\n",
        "\n",
        "\n",
        "\n",
        "\n",
        "\n",
        "\n"
      ]
    },
    {
      "cell_type": "markdown",
      "metadata": {
        "id": "MDka0PstGhal",
        "colab_type": "text"
      },
      "source": [
        "Importing Numpy Package"
      ]
    },
    {
      "cell_type": "code",
      "metadata": {
        "id": "AU0jTSyj61ru",
        "colab_type": "code",
        "colab": {}
      },
      "source": [
        "import numpy as np\n"
      ],
      "execution_count": null,
      "outputs": []
    },
    {
      "cell_type": "markdown",
      "metadata": {
        "id": "ky9WwJmWGoyJ",
        "colab_type": "text"
      },
      "source": [
        "Here, we define the sigmoid function. A sigmoid function maps any value to a value between 0 and 1.\n",
        "This function can also generate the derivative of a sigmoid (when deriv=True)."
      ]
    },
    {
      "cell_type": "code",
      "metadata": {
        "id": "tVmcafQu6-xY",
        "colab_type": "code",
        "colab": {}
      },
      "source": [
        "def nonlin(x,deriv=False):\n",
        "     if(deriv == True):\n",
        "          return x*(1-x)\n",
        "     return 1/(1+np.exp(-x))"
      ],
      "execution_count": null,
      "outputs": []
    },
    {
      "cell_type": "markdown",
      "metadata": {
        "id": "5EF5ZSmXHAPx",
        "colab_type": "text"
      },
      "source": [
        "#Input Dataset"
      ]
    },
    {
      "cell_type": "code",
      "metadata": {
        "id": "Sn2JEORE8NSc",
        "colab_type": "code",
        "colab": {}
      },
      "source": [
        "X = np.array([  [0,0,1],[0,1,1],[1,0,1],[1,1,1] ])\n",
        " "
      ],
      "execution_count": null,
      "outputs": []
    },
    {
      "cell_type": "markdown",
      "metadata": {
        "id": "eyCamEQLHWjz",
        "colab_type": "text"
      },
      "source": [
        "#Output Dataset"
      ]
    },
    {
      "cell_type": "code",
      "metadata": {
        "id": "kP8IgGMt8fFe",
        "colab_type": "code",
        "colab": {}
      },
      "source": [
        "y = np.array([[0,0,1,1]]).T"
      ],
      "execution_count": null,
      "outputs": []
    },
    {
      "cell_type": "markdown",
      "metadata": {
        "id": "UN9K8XPyHfWC",
        "colab_type": "text"
      },
      "source": [
        "seed random numbers to make calculation\n",
        "# deterministic"
      ]
    },
    {
      "cell_type": "code",
      "metadata": {
        "id": "KlfcPVT28jxm",
        "colab_type": "code",
        "colab": {}
      },
      "source": [
        "np.random.seed(1)\n"
      ],
      "execution_count": null,
      "outputs": []
    },
    {
      "cell_type": "markdown",
      "metadata": {
        "id": "AcYsAWlRH5g7",
        "colab_type": "text"
      },
      "source": [
        "initialize weights randomly with mean 0"
      ]
    },
    {
      "cell_type": "code",
      "metadata": {
        "id": "t-5_7hEI8o17",
        "colab_type": "code",
        "colab": {}
      },
      "source": [
        "syn0 = 2*np.random.random((3,1)) - 1"
      ],
      "execution_count": null,
      "outputs": []
    },
    {
      "cell_type": "markdown",
      "metadata": {
        "id": "tnmHZWsUH-jP",
        "colab_type": "text"
      },
      "source": [
        "This for loop \"iterates\" multiple times over the training code to optimize our network to the dataset.\n",
        "\n",
        "#forward propagation\n",
        "we first let the network \"try\" to predict the output given the input. We then study how it performs so that we can adjust it to do a bit better for each iteration. "
      ]
    },
    {
      "cell_type": "code",
      "metadata": {
        "id": "BqA0p8v18v7v",
        "colab_type": "code",
        "colab": {}
      },
      "source": [
        "for iter in range(10000):\n",
        "    l0 = X\n",
        "    l1 = nonlin(np.dot(l0,syn0))\n",
        "    l1_error = y - l1\n",
        "    l1_delta = l1_error * nonlin(l1,True)\n",
        "    syn0 += np.dot(l0.T,l1_delta)"
      ],
      "execution_count": null,
      "outputs": []
    },
    {
      "cell_type": "markdown",
      "metadata": {
        "id": "u02cPxp8IVNz",
        "colab_type": "text"
      },
      "source": [
        "#The output we get after training"
      ]
    },
    {
      "cell_type": "code",
      "metadata": {
        "id": "djbcH1NH9VvB",
        "colab_type": "code",
        "colab": {
          "base_uri": "https://localhost:8080/",
          "height": 102
        },
        "outputId": "4763bd02-0369-4276-ce43-e1cbdc7ef72f"
      },
      "source": [
        "print(\"Output After Training:\")\n",
        "print(l1)"
      ],
      "execution_count": null,
      "outputs": [
        {
          "output_type": "stream",
          "text": [
            "Output After Training:\n",
            "[[0.00679832]\n",
            " [0.00553546]\n",
            " [0.99548602]\n",
            " [0.99445491]]\n"
          ],
          "name": "stdout"
        }
      ]
    }
  ]
}